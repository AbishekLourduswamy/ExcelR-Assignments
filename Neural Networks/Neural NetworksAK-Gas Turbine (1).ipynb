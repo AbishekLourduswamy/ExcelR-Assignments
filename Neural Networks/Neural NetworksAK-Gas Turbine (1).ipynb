{
 "cells": [
  {
   "cell_type": "markdown",
   "id": "0e185874",
   "metadata": {},
   "source": [
    "## predicting turbine energy yield (TEY) using ambient variables as features."
   ]
  },
  {
   "cell_type": "markdown",
   "id": "af05feb5",
   "metadata": {},
   "source": [
    "## Import libraries"
   ]
  },
  {
   "cell_type": "code",
   "execution_count": 1,
   "id": "d413d461",
   "metadata": {},
   "outputs": [],
   "source": [
    "#load the libraries\n",
    "import pandas as pd\n",
    "import numpy as np\n",
    "from sklearn.model_selection import train_test_split, cross_val_score\n",
    "import seaborn as sns\n",
    "from matplotlib import pyplot as plt\n",
    "%matplotlib inline\n",
    "import tensorflow as tf\n",
    "tf.debugging.set_log_device_placement(False) \n",
    "import warnings\n",
    "warnings.filterwarnings('ignore')"
   ]
  },
  {
   "cell_type": "code",
   "execution_count": 2,
   "id": "8845b788",
   "metadata": {},
   "outputs": [],
   "source": [
    "# Generating reproducible results from same code\n",
    "tf.random.set_seed(14) "
   ]
  },
  {
   "cell_type": "code",
   "execution_count": 3,
   "id": "a0e4b172",
   "metadata": {},
   "outputs": [
    {
     "data": {
      "text/html": [
       "<div>\n",
       "<style scoped>\n",
       "    .dataframe tbody tr th:only-of-type {\n",
       "        vertical-align: middle;\n",
       "    }\n",
       "\n",
       "    .dataframe tbody tr th {\n",
       "        vertical-align: top;\n",
       "    }\n",
       "\n",
       "    .dataframe thead th {\n",
       "        text-align: right;\n",
       "    }\n",
       "</style>\n",
       "<table border=\"1\" class=\"dataframe\">\n",
       "  <thead>\n",
       "    <tr style=\"text-align: right;\">\n",
       "      <th></th>\n",
       "      <th>AT</th>\n",
       "      <th>AP</th>\n",
       "      <th>AH</th>\n",
       "      <th>AFDP</th>\n",
       "      <th>GTEP</th>\n",
       "      <th>TIT</th>\n",
       "      <th>TAT</th>\n",
       "      <th>TEY</th>\n",
       "      <th>CDP</th>\n",
       "      <th>CO</th>\n",
       "      <th>NOX</th>\n",
       "    </tr>\n",
       "  </thead>\n",
       "  <tbody>\n",
       "    <tr>\n",
       "      <th>0</th>\n",
       "      <td>6.8594</td>\n",
       "      <td>1007.9</td>\n",
       "      <td>96.799</td>\n",
       "      <td>3.5000</td>\n",
       "      <td>19.663</td>\n",
       "      <td>1059.2</td>\n",
       "      <td>550.00</td>\n",
       "      <td>114.70</td>\n",
       "      <td>10.605</td>\n",
       "      <td>3.1547</td>\n",
       "      <td>82.722</td>\n",
       "    </tr>\n",
       "    <tr>\n",
       "      <th>1</th>\n",
       "      <td>6.7850</td>\n",
       "      <td>1008.4</td>\n",
       "      <td>97.118</td>\n",
       "      <td>3.4998</td>\n",
       "      <td>19.728</td>\n",
       "      <td>1059.3</td>\n",
       "      <td>550.00</td>\n",
       "      <td>114.72</td>\n",
       "      <td>10.598</td>\n",
       "      <td>3.2363</td>\n",
       "      <td>82.776</td>\n",
       "    </tr>\n",
       "    <tr>\n",
       "      <th>2</th>\n",
       "      <td>6.8977</td>\n",
       "      <td>1008.8</td>\n",
       "      <td>95.939</td>\n",
       "      <td>3.4824</td>\n",
       "      <td>19.779</td>\n",
       "      <td>1059.4</td>\n",
       "      <td>549.87</td>\n",
       "      <td>114.71</td>\n",
       "      <td>10.601</td>\n",
       "      <td>3.2012</td>\n",
       "      <td>82.468</td>\n",
       "    </tr>\n",
       "    <tr>\n",
       "      <th>3</th>\n",
       "      <td>7.0569</td>\n",
       "      <td>1009.2</td>\n",
       "      <td>95.249</td>\n",
       "      <td>3.4805</td>\n",
       "      <td>19.792</td>\n",
       "      <td>1059.6</td>\n",
       "      <td>549.99</td>\n",
       "      <td>114.72</td>\n",
       "      <td>10.606</td>\n",
       "      <td>3.1923</td>\n",
       "      <td>82.670</td>\n",
       "    </tr>\n",
       "    <tr>\n",
       "      <th>4</th>\n",
       "      <td>7.3978</td>\n",
       "      <td>1009.7</td>\n",
       "      <td>95.150</td>\n",
       "      <td>3.4976</td>\n",
       "      <td>19.765</td>\n",
       "      <td>1059.7</td>\n",
       "      <td>549.98</td>\n",
       "      <td>114.72</td>\n",
       "      <td>10.612</td>\n",
       "      <td>3.2484</td>\n",
       "      <td>82.311</td>\n",
       "    </tr>\n",
       "  </tbody>\n",
       "</table>\n",
       "</div>"
      ],
      "text/plain": [
       "       AT      AP      AH    AFDP    GTEP     TIT     TAT     TEY     CDP  \\\n",
       "0  6.8594  1007.9  96.799  3.5000  19.663  1059.2  550.00  114.70  10.605   \n",
       "1  6.7850  1008.4  97.118  3.4998  19.728  1059.3  550.00  114.72  10.598   \n",
       "2  6.8977  1008.8  95.939  3.4824  19.779  1059.4  549.87  114.71  10.601   \n",
       "3  7.0569  1009.2  95.249  3.4805  19.792  1059.6  549.99  114.72  10.606   \n",
       "4  7.3978  1009.7  95.150  3.4976  19.765  1059.7  549.98  114.72  10.612   \n",
       "\n",
       "       CO     NOX  \n",
       "0  3.1547  82.722  \n",
       "1  3.2363  82.776  \n",
       "2  3.2012  82.468  \n",
       "3  3.1923  82.670  \n",
       "4  3.2484  82.311  "
      ]
     },
     "execution_count": 3,
     "metadata": {},
     "output_type": "execute_result"
    }
   ],
   "source": [
    "raw = pd.read_csv(\"C:/Users/HP/OneDrive/Desktop/Assignments/Data Set/gas_turbines.csv\")\n",
    "raw.head() \n",
    "#TEY is the variable we should predict."
   ]
  },
  {
   "cell_type": "code",
   "execution_count": 4,
   "id": "e780d712",
   "metadata": {},
   "outputs": [
    {
     "data": {
      "text/html": [
       "<div>\n",
       "<style scoped>\n",
       "    .dataframe tbody tr th:only-of-type {\n",
       "        vertical-align: middle;\n",
       "    }\n",
       "\n",
       "    .dataframe tbody tr th {\n",
       "        vertical-align: top;\n",
       "    }\n",
       "\n",
       "    .dataframe thead th {\n",
       "        text-align: right;\n",
       "    }\n",
       "</style>\n",
       "<table border=\"1\" class=\"dataframe\">\n",
       "  <thead>\n",
       "    <tr style=\"text-align: right;\">\n",
       "      <th></th>\n",
       "      <th>AT</th>\n",
       "      <th>AP</th>\n",
       "      <th>AH</th>\n",
       "      <th>TEY</th>\n",
       "    </tr>\n",
       "  </thead>\n",
       "  <tbody>\n",
       "    <tr>\n",
       "      <th>0</th>\n",
       "      <td>6.8594</td>\n",
       "      <td>1007.9</td>\n",
       "      <td>96.799</td>\n",
       "      <td>114.70</td>\n",
       "    </tr>\n",
       "    <tr>\n",
       "      <th>1</th>\n",
       "      <td>6.7850</td>\n",
       "      <td>1008.4</td>\n",
       "      <td>97.118</td>\n",
       "      <td>114.72</td>\n",
       "    </tr>\n",
       "    <tr>\n",
       "      <th>2</th>\n",
       "      <td>6.8977</td>\n",
       "      <td>1008.8</td>\n",
       "      <td>95.939</td>\n",
       "      <td>114.71</td>\n",
       "    </tr>\n",
       "    <tr>\n",
       "      <th>3</th>\n",
       "      <td>7.0569</td>\n",
       "      <td>1009.2</td>\n",
       "      <td>95.249</td>\n",
       "      <td>114.72</td>\n",
       "    </tr>\n",
       "    <tr>\n",
       "      <th>4</th>\n",
       "      <td>7.3978</td>\n",
       "      <td>1009.7</td>\n",
       "      <td>95.150</td>\n",
       "      <td>114.72</td>\n",
       "    </tr>\n",
       "  </tbody>\n",
       "</table>\n",
       "</div>"
      ],
      "text/plain": [
       "       AT      AP      AH     TEY\n",
       "0  6.8594  1007.9  96.799  114.70\n",
       "1  6.7850  1008.4  97.118  114.72\n",
       "2  6.8977  1008.8  95.939  114.71\n",
       "3  7.0569  1009.2  95.249  114.72\n",
       "4  7.3978  1009.7  95.150  114.72"
      ]
     },
     "execution_count": 4,
     "metadata": {},
     "output_type": "execute_result"
    }
   ],
   "source": [
    "df = raw.copy() \n",
    "df = df.drop(['AFDP','GTEP','TIT','TAT','CDP','CO','NOX'],axis=1)\n",
    "df.head()"
   ]
  },
  {
   "cell_type": "code",
   "execution_count": 5,
   "id": "e82039aa",
   "metadata": {},
   "outputs": [
    {
     "name": "stdout",
     "output_type": "stream",
     "text": [
      "<class 'pandas.core.frame.DataFrame'>\n",
      "RangeIndex: 15039 entries, 0 to 15038\n",
      "Data columns (total 4 columns):\n",
      " #   Column  Non-Null Count  Dtype  \n",
      "---  ------  --------------  -----  \n",
      " 0   AT      15039 non-null  float64\n",
      " 1   AP      15039 non-null  float64\n",
      " 2   AH      15039 non-null  float64\n",
      " 3   TEY     15039 non-null  float64\n",
      "dtypes: float64(4)\n",
      "memory usage: 470.1 KB\n"
     ]
    }
   ],
   "source": [
    "df.info()"
   ]
  },
  {
   "cell_type": "code",
   "execution_count": 6,
   "id": "b40d2f5d",
   "metadata": {},
   "outputs": [
    {
     "data": {
      "text/html": [
       "<div>\n",
       "<style scoped>\n",
       "    .dataframe tbody tr th:only-of-type {\n",
       "        vertical-align: middle;\n",
       "    }\n",
       "\n",
       "    .dataframe tbody tr th {\n",
       "        vertical-align: top;\n",
       "    }\n",
       "\n",
       "    .dataframe thead th {\n",
       "        text-align: right;\n",
       "    }\n",
       "</style>\n",
       "<table border=\"1\" class=\"dataframe\">\n",
       "  <thead>\n",
       "    <tr style=\"text-align: right;\">\n",
       "      <th></th>\n",
       "      <th>AT</th>\n",
       "      <th>AP</th>\n",
       "      <th>AH</th>\n",
       "      <th>TEY</th>\n",
       "    </tr>\n",
       "  </thead>\n",
       "  <tbody>\n",
       "    <tr>\n",
       "      <th>count</th>\n",
       "      <td>15039.000000</td>\n",
       "      <td>15039.00000</td>\n",
       "      <td>15039.000000</td>\n",
       "      <td>15039.000000</td>\n",
       "    </tr>\n",
       "    <tr>\n",
       "      <th>mean</th>\n",
       "      <td>17.764381</td>\n",
       "      <td>1013.19924</td>\n",
       "      <td>79.124174</td>\n",
       "      <td>134.188464</td>\n",
       "    </tr>\n",
       "    <tr>\n",
       "      <th>std</th>\n",
       "      <td>7.574323</td>\n",
       "      <td>6.41076</td>\n",
       "      <td>13.793439</td>\n",
       "      <td>15.829717</td>\n",
       "    </tr>\n",
       "    <tr>\n",
       "      <th>min</th>\n",
       "      <td>0.522300</td>\n",
       "      <td>985.85000</td>\n",
       "      <td>30.344000</td>\n",
       "      <td>100.170000</td>\n",
       "    </tr>\n",
       "    <tr>\n",
       "      <th>25%</th>\n",
       "      <td>11.408000</td>\n",
       "      <td>1008.90000</td>\n",
       "      <td>69.750000</td>\n",
       "      <td>127.985000</td>\n",
       "    </tr>\n",
       "    <tr>\n",
       "      <th>50%</th>\n",
       "      <td>18.186000</td>\n",
       "      <td>1012.80000</td>\n",
       "      <td>82.266000</td>\n",
       "      <td>133.780000</td>\n",
       "    </tr>\n",
       "    <tr>\n",
       "      <th>75%</th>\n",
       "      <td>23.862500</td>\n",
       "      <td>1016.90000</td>\n",
       "      <td>90.043500</td>\n",
       "      <td>140.895000</td>\n",
       "    </tr>\n",
       "    <tr>\n",
       "      <th>max</th>\n",
       "      <td>34.929000</td>\n",
       "      <td>1034.20000</td>\n",
       "      <td>100.200000</td>\n",
       "      <td>174.610000</td>\n",
       "    </tr>\n",
       "  </tbody>\n",
       "</table>\n",
       "</div>"
      ],
      "text/plain": [
       "                 AT           AP            AH           TEY\n",
       "count  15039.000000  15039.00000  15039.000000  15039.000000\n",
       "mean      17.764381   1013.19924     79.124174    134.188464\n",
       "std        7.574323      6.41076     13.793439     15.829717\n",
       "min        0.522300    985.85000     30.344000    100.170000\n",
       "25%       11.408000   1008.90000     69.750000    127.985000\n",
       "50%       18.186000   1012.80000     82.266000    133.780000\n",
       "75%       23.862500   1016.90000     90.043500    140.895000\n",
       "max       34.929000   1034.20000    100.200000    174.610000"
      ]
     },
     "execution_count": 6,
     "metadata": {},
     "output_type": "execute_result"
    }
   ],
   "source": [
    "df.describe()"
   ]
  },
  {
   "cell_type": "markdown",
   "id": "28138005",
   "metadata": {},
   "source": [
    "# Feature Analysis"
   ]
  },
  {
   "cell_type": "markdown",
   "id": "23d2b995",
   "metadata": {},
   "source": [
    " All features in the dataset can be used in model building. This is a Regression Problem."
   ]
  },
  {
   "cell_type": "markdown",
   "id": "7c408d68",
   "metadata": {},
   "source": [
    "# Train | Split dataset"
   ]
  },
  {
   "cell_type": "code",
   "execution_count": 7,
   "id": "ad8d7435",
   "metadata": {},
   "outputs": [],
   "source": [
    "X =df.iloc[:,:-1]\n",
    "Y = df.iloc[:,-1]\n",
    "\n",
    "\n",
    "X_train, X_test, y_train, y_test = train_test_split(X,Y, test_size = 0.3)"
   ]
  },
  {
   "cell_type": "markdown",
   "id": "33ef84ce",
   "metadata": {},
   "source": [
    "A common mistake when configuring a neural network is to first normalize the data before splitting the data."
   ]
  },
  {
   "cell_type": "code",
   "execution_count": 8,
   "id": "33b605ab",
   "metadata": {},
   "outputs": [],
   "source": [
    "y_train=np.reshape(y_train.to_numpy(), (-1,1)) \n",
    "y_test=np.reshape(y_test.to_numpy(), (-1,1)) "
   ]
  },
  {
   "cell_type": "code",
   "execution_count": 9,
   "id": "4bed40ed",
   "metadata": {},
   "outputs": [
    {
     "name": "stdout",
     "output_type": "stream",
     "text": [
      "MinMaxScaler()\n",
      "MinMaxScaler()\n",
      "MinMaxScaler()\n",
      "MinMaxScaler()\n"
     ]
    }
   ],
   "source": [
    "from sklearn.preprocessing import MinMaxScaler\n",
    "\n",
    "scaler_x = MinMaxScaler()\n",
    "scaler_y = MinMaxScaler()\n",
    "\n",
    "print(scaler_x.fit(X_train))\n",
    "xtrain_scale=scaler_x.transform(X_train)\n",
    "\n",
    "print(scaler_x.fit(X_test))\n",
    "xtest_scale=scaler_x.transform(X_test)\n",
    "\n",
    "print(scaler_y.fit(y_train))\n",
    "ytrain_scale=scaler_y.transform(y_train)\n",
    "\n",
    "print(scaler_y.fit(y_test))\n",
    "ytest_scale=scaler_y.transform(y_test)"
   ]
  },
  {
   "cell_type": "code",
   "execution_count": 10,
   "id": "7f0066c5",
   "metadata": {},
   "outputs": [
    {
     "data": {
      "text/plain": [
       "10527"
      ]
     },
     "execution_count": 10,
     "metadata": {},
     "output_type": "execute_result"
    }
   ],
   "source": [
    "len(xtrain_scale)"
   ]
  },
  {
   "cell_type": "markdown",
   "id": "19f5f10d",
   "metadata": {},
   "source": [
    "# Neural Network Modelling"
   ]
  },
  {
   "cell_type": "markdown",
   "id": "fca00555",
   "metadata": {},
   "source": [
    "Building the Model"
   ]
  },
  {
   "cell_type": "code",
   "execution_count": 11,
   "id": "bb482cc6",
   "metadata": {},
   "outputs": [],
   "source": [
    "# Create your first MLP in Keras\n",
    "import keras \n",
    "from keras.models import Sequential\n",
    "from keras.layers import Dense"
   ]
  },
  {
   "cell_type": "code",
   "execution_count": 12,
   "id": "f87208a5",
   "metadata": {},
   "outputs": [
    {
     "name": "stdout",
     "output_type": "stream",
     "text": [
      "Epoch 1/100\n",
      "48/48 [==============================] - 3s 18ms/step - loss: 0.0731 - mse: 0.0731 - mae: 0.2083 - val_loss: 0.0473 - val_mse: 0.0473 - val_mae: 0.1587\n",
      "Epoch 2/100\n",
      "48/48 [==============================] - 1s 16ms/step - loss: 0.0457 - mse: 0.0457 - mae: 0.1524 - val_loss: 0.0446 - val_mse: 0.0446 - val_mae: 0.1482\n",
      "Epoch 3/100\n",
      "48/48 [==============================] - 1s 15ms/step - loss: 0.0433 - mse: 0.0433 - mae: 0.1519 - val_loss: 0.0424 - val_mse: 0.0424 - val_mae: 0.1546\n",
      "Epoch 4/100\n",
      "48/48 [==============================] - 1s 13ms/step - loss: 0.0417 - mse: 0.0417 - mae: 0.1569 - val_loss: 0.0420 - val_mse: 0.0420 - val_mae: 0.1581\n",
      "Epoch 5/100\n",
      "48/48 [==============================] - 1s 31ms/step - loss: 0.0416 - mse: 0.0416 - mae: 0.1593 - val_loss: 0.0416 - val_mse: 0.0416 - val_mae: 0.1584\n",
      "Epoch 6/100\n",
      "48/48 [==============================] - 1s 20ms/step - loss: 0.0408 - mse: 0.0408 - mae: 0.1587 - val_loss: 0.0402 - val_mse: 0.0402 - val_mae: 0.1568\n",
      "Epoch 7/100\n",
      "48/48 [==============================] - 1s 13ms/step - loss: 0.0405 - mse: 0.0405 - mae: 0.1583 - val_loss: 0.0400 - val_mse: 0.0400 - val_mae: 0.1568\n",
      "Epoch 8/100\n",
      "48/48 [==============================] - 0s 10ms/step - loss: 0.0400 - mse: 0.0400 - mae: 0.1577 - val_loss: 0.0398 - val_mse: 0.0398 - val_mae: 0.1577\n",
      "Epoch 9/100\n",
      "48/48 [==============================] - 1s 25ms/step - loss: 0.0401 - mse: 0.0401 - mae: 0.1581 - val_loss: 0.0397 - val_mse: 0.0397 - val_mae: 0.1572\n",
      "Epoch 10/100\n",
      "48/48 [==============================] - 1s 18ms/step - loss: 0.0400 - mse: 0.0400 - mae: 0.1572 - val_loss: 0.0395 - val_mse: 0.0395 - val_mae: 0.1573\n",
      "Epoch 11/100\n",
      "48/48 [==============================] - 1s 11ms/step - loss: 0.0400 - mse: 0.0400 - mae: 0.1583 - val_loss: 0.0419 - val_mse: 0.0419 - val_mae: 0.1615\n",
      "Epoch 12/100\n",
      "48/48 [==============================] - 1s 20ms/step - loss: 0.0403 - mse: 0.0403 - mae: 0.1581 - val_loss: 0.0394 - val_mse: 0.0394 - val_mae: 0.1575\n",
      "Epoch 13/100\n",
      "48/48 [==============================] - 1s 25ms/step - loss: 0.0399 - mse: 0.0399 - mae: 0.1584 - val_loss: 0.0403 - val_mse: 0.0403 - val_mae: 0.1583\n",
      "Epoch 14/100\n",
      "48/48 [==============================] - 0s 10ms/step - loss: 0.0399 - mse: 0.0399 - mae: 0.1582 - val_loss: 0.0414 - val_mse: 0.0414 - val_mae: 0.1607\n",
      "Epoch 15/100\n",
      "48/48 [==============================] - 0s 10ms/step - loss: 0.0405 - mse: 0.0405 - mae: 0.1598 - val_loss: 0.0402 - val_mse: 0.0402 - val_mae: 0.1588\n",
      "Epoch 16/100\n",
      "48/48 [==============================] - 0s 10ms/step - loss: 0.0408 - mse: 0.0408 - mae: 0.1593 - val_loss: 0.0394 - val_mse: 0.0394 - val_mae: 0.1570\n",
      "Epoch 17/100\n",
      "48/48 [==============================] - 1s 11ms/step - loss: 0.0397 - mse: 0.0397 - mae: 0.1576 - val_loss: 0.0393 - val_mse: 0.0393 - val_mae: 0.1575\n",
      "Epoch 18/100\n",
      "48/48 [==============================] - 0s 10ms/step - loss: 0.0398 - mse: 0.0398 - mae: 0.1583 - val_loss: 0.0392 - val_mse: 0.0392 - val_mae: 0.1573\n",
      "Epoch 19/100\n",
      "48/48 [==============================] - 0s 10ms/step - loss: 0.0400 - mse: 0.0400 - mae: 0.1589 - val_loss: 0.0410 - val_mse: 0.0410 - val_mae: 0.1641\n",
      "Epoch 20/100\n",
      "48/48 [==============================] - 0s 10ms/step - loss: 0.0401 - mse: 0.0401 - mae: 0.1597 - val_loss: 0.0393 - val_mse: 0.0393 - val_mae: 0.1565\n",
      "Epoch 21/100\n",
      "48/48 [==============================] - 1s 11ms/step - loss: 0.0396 - mse: 0.0396 - mae: 0.1575 - val_loss: 0.0393 - val_mse: 0.0393 - val_mae: 0.1578\n",
      "Epoch 22/100\n",
      "48/48 [==============================] - 0s 10ms/step - loss: 0.0395 - mse: 0.0395 - mae: 0.1581 - val_loss: 0.0398 - val_mse: 0.0398 - val_mae: 0.1588\n",
      "Epoch 23/100\n",
      "48/48 [==============================] - 1s 14ms/step - loss: 0.0398 - mse: 0.0398 - mae: 0.1574 - val_loss: 0.0400 - val_mse: 0.0400 - val_mae: 0.1573\n",
      "Epoch 24/100\n",
      "48/48 [==============================] - 1s 14ms/step - loss: 0.0400 - mse: 0.0400 - mae: 0.1590 - val_loss: 0.0396 - val_mse: 0.0396 - val_mae: 0.1584\n",
      "Epoch 25/100\n",
      "48/48 [==============================] - 1s 14ms/step - loss: 0.0396 - mse: 0.0396 - mae: 0.1569 - val_loss: 0.0404 - val_mse: 0.0404 - val_mae: 0.1581\n",
      "Epoch 26/100\n",
      "48/48 [==============================] - 1s 11ms/step - loss: 0.0396 - mse: 0.0396 - mae: 0.1579 - val_loss: 0.0391 - val_mse: 0.0391 - val_mae: 0.1559\n",
      "Epoch 27/100\n",
      "48/48 [==============================] - 1s 10ms/step - loss: 0.0393 - mse: 0.0393 - mae: 0.1567 - val_loss: 0.0391 - val_mse: 0.0391 - val_mae: 0.1567\n",
      "Epoch 28/100\n",
      "48/48 [==============================] - 0s 10ms/step - loss: 0.0394 - mse: 0.0394 - mae: 0.1568 - val_loss: 0.0399 - val_mse: 0.0399 - val_mae: 0.1581\n",
      "Epoch 29/100\n",
      "48/48 [==============================] - 0s 10ms/step - loss: 0.0398 - mse: 0.0398 - mae: 0.1583 - val_loss: 0.0399 - val_mse: 0.0399 - val_mae: 0.1579\n",
      "Epoch 30/100\n",
      "48/48 [==============================] - 1s 11ms/step - loss: 0.0399 - mse: 0.0399 - mae: 0.1585 - val_loss: 0.0389 - val_mse: 0.0389 - val_mae: 0.1575\n",
      "Epoch 31/100\n",
      "48/48 [==============================] - 1s 14ms/step - loss: 0.0393 - mse: 0.0393 - mae: 0.1577 - val_loss: 0.0387 - val_mse: 0.0387 - val_mae: 0.1563\n",
      "Epoch 32/100\n",
      "48/48 [==============================] - 1s 10ms/step - loss: 0.0393 - mse: 0.0393 - mae: 0.1565 - val_loss: 0.0400 - val_mse: 0.0400 - val_mae: 0.1593\n",
      "Epoch 33/100\n",
      "48/48 [==============================] - 1s 14ms/step - loss: 0.0399 - mse: 0.0399 - mae: 0.1580 - val_loss: 0.0394 - val_mse: 0.0394 - val_mae: 0.1567\n",
      "Epoch 34/100\n",
      "48/48 [==============================] - 1s 16ms/step - loss: 0.0393 - mse: 0.0393 - mae: 0.1564 - val_loss: 0.0406 - val_mse: 0.0406 - val_mae: 0.1619\n",
      "Epoch 35/100\n",
      "48/48 [==============================] - 1s 11ms/step - loss: 0.0394 - mse: 0.0394 - mae: 0.1571 - val_loss: 0.0394 - val_mse: 0.0394 - val_mae: 0.1582\n",
      "Epoch 36/100\n",
      "48/48 [==============================] - 0s 10ms/step - loss: 0.0391 - mse: 0.0391 - mae: 0.1561 - val_loss: 0.0412 - val_mse: 0.0412 - val_mae: 0.1638\n",
      "Epoch 37/100\n",
      "48/48 [==============================] - 0s 9ms/step - loss: 0.0403 - mse: 0.0403 - mae: 0.1602 - val_loss: 0.0389 - val_mse: 0.0389 - val_mae: 0.1551\n",
      "Epoch 38/100\n",
      "48/48 [==============================] - 0s 10ms/step - loss: 0.0394 - mse: 0.0394 - mae: 0.1570 - val_loss: 0.0398 - val_mse: 0.0398 - val_mae: 0.1585\n",
      "Epoch 39/100\n",
      "48/48 [==============================] - 1s 16ms/step - loss: 0.0394 - mse: 0.0394 - mae: 0.1574 - val_loss: 0.0385 - val_mse: 0.0385 - val_mae: 0.1546\n",
      "Epoch 40/100\n",
      "48/48 [==============================] - 1s 16ms/step - loss: 0.0392 - mse: 0.0392 - mae: 0.1563 - val_loss: 0.0384 - val_mse: 0.0384 - val_mae: 0.1544\n",
      "Epoch 41/100\n",
      "48/48 [==============================] - 1s 17ms/step - loss: 0.0395 - mse: 0.0395 - mae: 0.1576 - val_loss: 0.0384 - val_mse: 0.0384 - val_mae: 0.1560\n",
      "Epoch 42/100\n",
      "48/48 [==============================] - 1s 11ms/step - loss: 0.0390 - mse: 0.0390 - mae: 0.1561 - val_loss: 0.0388 - val_mse: 0.0388 - val_mae: 0.1555\n",
      "Epoch 43/100\n",
      "48/48 [==============================] - 1s 11ms/step - loss: 0.0390 - mse: 0.0390 - mae: 0.1561 - val_loss: 0.0384 - val_mse: 0.0384 - val_mae: 0.1544\n",
      "Epoch 44/100\n",
      "48/48 [==============================] - 1s 19ms/step - loss: 0.0390 - mse: 0.0390 - mae: 0.1559 - val_loss: 0.0382 - val_mse: 0.0382 - val_mae: 0.1535\n",
      "Epoch 45/100\n",
      "48/48 [==============================] - 1s 12ms/step - loss: 0.0391 - mse: 0.0391 - mae: 0.1562 - val_loss: 0.0382 - val_mse: 0.0382 - val_mae: 0.1548\n",
      "Epoch 46/100\n",
      "48/48 [==============================] - 0s 10ms/step - loss: 0.0389 - mse: 0.0389 - mae: 0.1562 - val_loss: 0.0381 - val_mse: 0.0381 - val_mae: 0.1541\n",
      "Epoch 47/100\n",
      "48/48 [==============================] - 1s 11ms/step - loss: 0.0391 - mse: 0.0391 - mae: 0.1568 - val_loss: 0.0387 - val_mse: 0.0387 - val_mae: 0.1557\n",
      "Epoch 48/100\n",
      "48/48 [==============================] - 0s 10ms/step - loss: 0.0391 - mse: 0.0391 - mae: 0.1576 - val_loss: 0.0388 - val_mse: 0.0388 - val_mae: 0.1575\n",
      "Epoch 49/100\n",
      "48/48 [==============================] - 1s 10ms/step - loss: 0.0388 - mse: 0.0388 - mae: 0.1562 - val_loss: 0.0381 - val_mse: 0.0381 - val_mae: 0.1553\n",
      "Epoch 50/100\n",
      "48/48 [==============================] - 1s 10ms/step - loss: 0.0386 - mse: 0.0386 - mae: 0.1558 - val_loss: 0.0380 - val_mse: 0.0380 - val_mae: 0.1550\n",
      "Epoch 51/100\n",
      "48/48 [==============================] - 0s 10ms/step - loss: 0.0385 - mse: 0.0385 - mae: 0.1554 - val_loss: 0.0381 - val_mse: 0.0381 - val_mae: 0.1545\n",
      "Epoch 52/100\n",
      "48/48 [==============================] - 0s 9ms/step - loss: 0.0387 - mse: 0.0387 - mae: 0.1554 - val_loss: 0.0380 - val_mse: 0.0380 - val_mae: 0.1547\n",
      "Epoch 53/100\n",
      "48/48 [==============================] - 0s 9ms/step - loss: 0.0385 - mse: 0.0385 - mae: 0.1559 - val_loss: 0.0383 - val_mse: 0.0383 - val_mae: 0.1545\n",
      "Epoch 54/100\n",
      "48/48 [==============================] - 0s 9ms/step - loss: 0.0386 - mse: 0.0386 - mae: 0.1554 - val_loss: 0.0385 - val_mse: 0.0385 - val_mae: 0.1559\n",
      "Epoch 55/100\n",
      "48/48 [==============================] - 1s 17ms/step - loss: 0.0390 - mse: 0.0390 - mae: 0.1567 - val_loss: 0.0381 - val_mse: 0.0381 - val_mae: 0.1555\n",
      "Epoch 56/100\n",
      "48/48 [==============================] - 1s 15ms/step - loss: 0.0387 - mse: 0.0387 - mae: 0.1559 - val_loss: 0.0378 - val_mse: 0.0378 - val_mae: 0.1540\n",
      "Epoch 57/100\n",
      "48/48 [==============================] - 0s 9ms/step - loss: 0.0387 - mse: 0.0387 - mae: 0.1555 - val_loss: 0.0378 - val_mse: 0.0378 - val_mae: 0.1534\n",
      "Epoch 58/100\n",
      "48/48 [==============================] - 0s 9ms/step - loss: 0.0385 - mse: 0.0385 - mae: 0.1550 - val_loss: 0.0393 - val_mse: 0.0393 - val_mae: 0.1583\n",
      "Epoch 59/100\n",
      "48/48 [==============================] - 0s 9ms/step - loss: 0.0396 - mse: 0.0396 - mae: 0.1582 - val_loss: 0.0377 - val_mse: 0.0377 - val_mae: 0.1535\n",
      "Epoch 60/100\n",
      "48/48 [==============================] - 0s 9ms/step - loss: 0.0386 - mse: 0.0386 - mae: 0.1555 - val_loss: 0.0378 - val_mse: 0.0378 - val_mae: 0.1560\n",
      "Epoch 61/100\n",
      "48/48 [==============================] - 0s 10ms/step - loss: 0.0385 - mse: 0.0385 - mae: 0.1565 - val_loss: 0.0377 - val_mse: 0.0377 - val_mae: 0.1545\n",
      "Epoch 62/100\n",
      "48/48 [==============================] - 0s 9ms/step - loss: 0.0385 - mse: 0.0385 - mae: 0.1565 - val_loss: 0.0377 - val_mse: 0.0377 - val_mae: 0.1534\n",
      "Epoch 63/100\n",
      "48/48 [==============================] - 0s 9ms/step - loss: 0.0388 - mse: 0.0388 - mae: 0.1556 - val_loss: 0.0384 - val_mse: 0.0384 - val_mae: 0.1543\n",
      "Epoch 64/100\n",
      "48/48 [==============================] - 0s 9ms/step - loss: 0.0389 - mse: 0.0389 - mae: 0.1563 - val_loss: 0.0378 - val_mse: 0.0378 - val_mae: 0.1557\n",
      "Epoch 65/100\n",
      "48/48 [==============================] - 0s 9ms/step - loss: 0.0385 - mse: 0.0385 - mae: 0.1555 - val_loss: 0.0409 - val_mse: 0.0409 - val_mae: 0.1612\n",
      "Epoch 66/100\n",
      "48/48 [==============================] - 0s 10ms/step - loss: 0.0402 - mse: 0.0402 - mae: 0.1590 - val_loss: 0.0383 - val_mse: 0.0383 - val_mae: 0.1541\n",
      "Epoch 67/100\n",
      "48/48 [==============================] - 0s 9ms/step - loss: 0.0385 - mse: 0.0385 - mae: 0.1550 - val_loss: 0.0378 - val_mse: 0.0378 - val_mae: 0.1543\n",
      "Epoch 68/100\n",
      "48/48 [==============================] - 1s 14ms/step - loss: 0.0386 - mse: 0.0386 - mae: 0.1552 - val_loss: 0.0379 - val_mse: 0.0379 - val_mae: 0.1555\n",
      "Epoch 69/100\n",
      "48/48 [==============================] - 1s 15ms/step - loss: 0.0384 - mse: 0.0384 - mae: 0.1550 - val_loss: 0.0377 - val_mse: 0.0377 - val_mae: 0.1547\n",
      "Epoch 70/100\n",
      "48/48 [==============================] - 1s 13ms/step - loss: 0.0384 - mse: 0.0384 - mae: 0.1552 - val_loss: 0.0381 - val_mse: 0.0381 - val_mae: 0.1556\n",
      "Epoch 71/100\n",
      "48/48 [==============================] - 1s 14ms/step - loss: 0.0387 - mse: 0.0387 - mae: 0.1560 - val_loss: 0.0376 - val_mse: 0.0376 - val_mae: 0.1545\n",
      "Epoch 72/100\n",
      "48/48 [==============================] - 1s 16ms/step - loss: 0.0383 - mse: 0.0383 - mae: 0.1545 - val_loss: 0.0375 - val_mse: 0.0375 - val_mae: 0.1539\n",
      "Epoch 73/100\n",
      "48/48 [==============================] - 1s 16ms/step - loss: 0.0385 - mse: 0.0385 - mae: 0.1547 - val_loss: 0.0375 - val_mse: 0.0375 - val_mae: 0.1539\n",
      "Epoch 74/100\n",
      "48/48 [==============================] - 1s 15ms/step - loss: 0.0387 - mse: 0.0387 - mae: 0.1560 - val_loss: 0.0377 - val_mse: 0.0377 - val_mae: 0.1550\n",
      "Epoch 75/100\n",
      "48/48 [==============================] - 0s 10ms/step - loss: 0.0383 - mse: 0.0383 - mae: 0.1555 - val_loss: 0.0375 - val_mse: 0.0375 - val_mae: 0.1531\n",
      "Epoch 76/100\n",
      "48/48 [==============================] - 0s 10ms/step - loss: 0.0382 - mse: 0.0382 - mae: 0.1548 - val_loss: 0.0374 - val_mse: 0.0374 - val_mae: 0.1523\n",
      "Epoch 77/100\n",
      "48/48 [==============================] - 1s 18ms/step - loss: 0.0385 - mse: 0.0385 - mae: 0.1548 - val_loss: 0.0389 - val_mse: 0.0389 - val_mae: 0.1573\n",
      "Epoch 78/100\n",
      "48/48 [==============================] - 1s 15ms/step - loss: 0.0387 - mse: 0.0387 - mae: 0.1562 - val_loss: 0.0378 - val_mse: 0.0378 - val_mae: 0.1546\n",
      "Epoch 79/100\n",
      "48/48 [==============================] - 1s 15ms/step - loss: 0.0384 - mse: 0.0384 - mae: 0.1546 - val_loss: 0.0376 - val_mse: 0.0376 - val_mae: 0.1541\n",
      "Epoch 80/100\n",
      "48/48 [==============================] - 1s 15ms/step - loss: 0.0382 - mse: 0.0382 - mae: 0.1544 - val_loss: 0.0386 - val_mse: 0.0386 - val_mae: 0.1566\n",
      "Epoch 81/100\n",
      "48/48 [==============================] - 1s 14ms/step - loss: 0.0386 - mse: 0.0386 - mae: 0.1559 - val_loss: 0.0374 - val_mse: 0.0374 - val_mae: 0.1544\n",
      "Epoch 82/100\n",
      "48/48 [==============================] - 1s 14ms/step - loss: 0.0381 - mse: 0.0381 - mae: 0.1548 - val_loss: 0.0376 - val_mse: 0.0376 - val_mae: 0.1516\n",
      "Epoch 83/100\n",
      "48/48 [==============================] - 1s 16ms/step - loss: 0.0384 - mse: 0.0384 - mae: 0.1543 - val_loss: 0.0379 - val_mse: 0.0379 - val_mae: 0.1547\n",
      "Epoch 84/100\n",
      "48/48 [==============================] - 1s 18ms/step - loss: 0.0381 - mse: 0.0381 - mae: 0.1537 - val_loss: 0.0373 - val_mse: 0.0373 - val_mae: 0.1536\n",
      "Epoch 85/100\n",
      "48/48 [==============================] - 1s 20ms/step - loss: 0.0382 - mse: 0.0382 - mae: 0.1555 - val_loss: 0.0374 - val_mse: 0.0374 - val_mae: 0.1521\n",
      "Epoch 86/100\n",
      "48/48 [==============================] - 1s 16ms/step - loss: 0.0382 - mse: 0.0382 - mae: 0.1540 - val_loss: 0.0378 - val_mse: 0.0378 - val_mae: 0.1525\n",
      "Epoch 87/100\n",
      "48/48 [==============================] - 1s 13ms/step - loss: 0.0384 - mse: 0.0384 - mae: 0.1545 - val_loss: 0.0376 - val_mse: 0.0376 - val_mae: 0.1529\n",
      "Epoch 88/100\n",
      "48/48 [==============================] - 0s 10ms/step - loss: 0.0384 - mse: 0.0384 - mae: 0.1538 - val_loss: 0.0395 - val_mse: 0.0395 - val_mae: 0.1612\n",
      "Epoch 89/100\n",
      "48/48 [==============================] - 1s 26ms/step - loss: 0.0384 - mse: 0.0384 - mae: 0.1550 - val_loss: 0.0374 - val_mse: 0.0374 - val_mae: 0.1534\n",
      "Epoch 90/100\n",
      "48/48 [==============================] - 2s 38ms/step - loss: 0.0384 - mse: 0.0384 - mae: 0.1547 - val_loss: 0.0373 - val_mse: 0.0373 - val_mae: 0.1520\n",
      "Epoch 91/100\n",
      "48/48 [==============================] - 1s 18ms/step - loss: 0.0382 - mse: 0.0382 - mae: 0.1540 - val_loss: 0.0378 - val_mse: 0.0378 - val_mae: 0.1554\n",
      "Epoch 92/100\n",
      "48/48 [==============================] - 0s 9ms/step - loss: 0.0385 - mse: 0.0385 - mae: 0.1543 - val_loss: 0.0373 - val_mse: 0.0373 - val_mae: 0.1528\n",
      "Epoch 93/100\n",
      "48/48 [==============================] - 1s 15ms/step - loss: 0.0382 - mse: 0.0382 - mae: 0.1544 - val_loss: 0.0376 - val_mse: 0.0376 - val_mae: 0.1531\n",
      "Epoch 94/100\n",
      "48/48 [==============================] - 0s 9ms/step - loss: 0.0380 - mse: 0.0380 - mae: 0.1534 - val_loss: 0.0376 - val_mse: 0.0376 - val_mae: 0.1524\n",
      "Epoch 95/100\n",
      "48/48 [==============================] - 0s 9ms/step - loss: 0.0385 - mse: 0.0385 - mae: 0.1539 - val_loss: 0.0373 - val_mse: 0.0373 - val_mae: 0.1522\n",
      "Epoch 96/100\n",
      "48/48 [==============================] - 0s 10ms/step - loss: 0.0382 - mse: 0.0382 - mae: 0.1536 - val_loss: 0.0383 - val_mse: 0.0383 - val_mae: 0.1555\n",
      "Epoch 97/100\n",
      "48/48 [==============================] - 1s 10ms/step - loss: 0.0384 - mse: 0.0384 - mae: 0.1542 - val_loss: 0.0374 - val_mse: 0.0374 - val_mae: 0.1512\n",
      "Epoch 98/100\n",
      "48/48 [==============================] - 0s 9ms/step - loss: 0.0381 - mse: 0.0381 - mae: 0.1536 - val_loss: 0.0373 - val_mse: 0.0373 - val_mae: 0.1529\n",
      "Epoch 99/100\n",
      "48/48 [==============================] - 0s 9ms/step - loss: 0.0388 - mse: 0.0388 - mae: 0.1555 - val_loss: 0.0373 - val_mse: 0.0373 - val_mae: 0.1526\n",
      "Epoch 100/100\n",
      "48/48 [==============================] - 0s 9ms/step - loss: 0.0380 - mse: 0.0380 - mae: 0.1532 - val_loss: 0.0379 - val_mse: 0.0379 - val_mae: 0.1539\n"
     ]
    }
   ],
   "source": [
    "# create model\n",
    "model1 = Sequential()\n",
    "model1.add(Dense(4, input_dim=3, kernel_initializer='normal', activation='relu'))\n",
    "model1.add(Dense(2106,kernel_initializer='normal', activation='relu'))\n",
    "model1.add(Dense(1, activation='linear'))\n",
    "# Compile model\n",
    "model1.compile(loss='mean_squared_error', optimizer='adam', metrics=['mse','mae'])\n",
    "# Fit the model\n",
    "hist1 = model1.fit(xtrain_scale, ytrain_scale, validation_split=0.33, epochs=100, batch_size=150)\n",
    "#At epoch 50, mse and mae just keeps oscillating back and forth"
   ]
  },
  {
   "cell_type": "code",
   "execution_count": 13,
   "id": "9c55ae8f",
   "metadata": {},
   "outputs": [
    {
     "name": "stdout",
     "output_type": "stream",
     "text": [
      "Model: \"sequential\"\n",
      "_________________________________________________________________\n",
      " Layer (type)                Output Shape              Param #   \n",
      "=================================================================\n",
      " dense (Dense)               (None, 4)                 16        \n",
      "                                                                 \n",
      " dense_1 (Dense)             (None, 2106)              10530     \n",
      "                                                                 \n",
      " dense_2 (Dense)             (None, 1)                 2107      \n",
      "                                                                 \n",
      "=================================================================\n",
      "Total params: 12,653\n",
      "Trainable params: 12,653\n",
      "Non-trainable params: 0\n",
      "_________________________________________________________________\n"
     ]
    }
   ],
   "source": [
    "model1.summary() "
   ]
  },
  {
   "cell_type": "markdown",
   "id": "b9d94e24",
   "metadata": {},
   "source": [
    "# Model Evaluation"
   ]
  },
  {
   "cell_type": "code",
   "execution_count": 14,
   "id": "37e3c9c5",
   "metadata": {},
   "outputs": [
    {
     "name": "stdout",
     "output_type": "stream",
     "text": [
      "141/141 [==============================] - 1s 5ms/step\n"
     ]
    }
   ],
   "source": [
    "y_predict = model1.predict(xtest_scale)"
   ]
  },
  {
   "cell_type": "code",
   "execution_count": 15,
   "id": "fe43a9a8",
   "metadata": {},
   "outputs": [
    {
     "name": "stdout",
     "output_type": "stream",
     "text": [
      "dict_keys(['loss', 'mse', 'mae', 'val_loss', 'val_mse', 'val_mae'])\n"
     ]
    }
   ],
   "source": [
    "print(hist1.history.keys())"
   ]
  },
  {
   "cell_type": "code",
   "execution_count": 16,
   "id": "a96b3f1a",
   "metadata": {},
   "outputs": [
    {
     "data": {
      "text/html": [
       "<div>\n",
       "<style scoped>\n",
       "    .dataframe tbody tr th:only-of-type {\n",
       "        vertical-align: middle;\n",
       "    }\n",
       "\n",
       "    .dataframe tbody tr th {\n",
       "        vertical-align: top;\n",
       "    }\n",
       "\n",
       "    .dataframe thead th {\n",
       "        text-align: right;\n",
       "    }\n",
       "</style>\n",
       "<table border=\"1\" class=\"dataframe\">\n",
       "  <thead>\n",
       "    <tr style=\"text-align: right;\">\n",
       "      <th></th>\n",
       "      <th>loss</th>\n",
       "      <th>mse</th>\n",
       "      <th>mae</th>\n",
       "      <th>val_loss</th>\n",
       "      <th>val_mse</th>\n",
       "      <th>val_mae</th>\n",
       "      <th>epoch</th>\n",
       "    </tr>\n",
       "  </thead>\n",
       "  <tbody>\n",
       "    <tr>\n",
       "      <th>95</th>\n",
       "      <td>0.038173</td>\n",
       "      <td>0.038173</td>\n",
       "      <td>0.153613</td>\n",
       "      <td>0.038337</td>\n",
       "      <td>0.038337</td>\n",
       "      <td>0.155530</td>\n",
       "      <td>95</td>\n",
       "    </tr>\n",
       "    <tr>\n",
       "      <th>96</th>\n",
       "      <td>0.038358</td>\n",
       "      <td>0.038358</td>\n",
       "      <td>0.154153</td>\n",
       "      <td>0.037377</td>\n",
       "      <td>0.037377</td>\n",
       "      <td>0.151190</td>\n",
       "      <td>96</td>\n",
       "    </tr>\n",
       "    <tr>\n",
       "      <th>97</th>\n",
       "      <td>0.038121</td>\n",
       "      <td>0.038121</td>\n",
       "      <td>0.153625</td>\n",
       "      <td>0.037297</td>\n",
       "      <td>0.037297</td>\n",
       "      <td>0.152898</td>\n",
       "      <td>97</td>\n",
       "    </tr>\n",
       "    <tr>\n",
       "      <th>98</th>\n",
       "      <td>0.038792</td>\n",
       "      <td>0.038792</td>\n",
       "      <td>0.155541</td>\n",
       "      <td>0.037258</td>\n",
       "      <td>0.037258</td>\n",
       "      <td>0.152575</td>\n",
       "      <td>98</td>\n",
       "    </tr>\n",
       "    <tr>\n",
       "      <th>99</th>\n",
       "      <td>0.038006</td>\n",
       "      <td>0.038006</td>\n",
       "      <td>0.153213</td>\n",
       "      <td>0.037869</td>\n",
       "      <td>0.037869</td>\n",
       "      <td>0.153870</td>\n",
       "      <td>99</td>\n",
       "    </tr>\n",
       "  </tbody>\n",
       "</table>\n",
       "</div>"
      ],
      "text/plain": [
       "        loss       mse       mae  val_loss   val_mse   val_mae  epoch\n",
       "95  0.038173  0.038173  0.153613  0.038337  0.038337  0.155530     95\n",
       "96  0.038358  0.038358  0.154153  0.037377  0.037377  0.151190     96\n",
       "97  0.038121  0.038121  0.153625  0.037297  0.037297  0.152898     97\n",
       "98  0.038792  0.038792  0.155541  0.037258  0.037258  0.152575     98\n",
       "99  0.038006  0.038006  0.153213  0.037869  0.037869  0.153870     99"
      ]
     },
     "execution_count": 16,
     "metadata": {},
     "output_type": "execute_result"
    }
   ],
   "source": [
    "hist1_df = pd.DataFrame(hist1.history)\n",
    "hist1_df[\"epoch\"]=hist1.epoch\n",
    "hist1_df.tail()"
   ]
  },
  {
   "cell_type": "markdown",
   "id": "c303c3c7",
   "metadata": {},
   "source": [
    "# Visualize Training History"
   ]
  },
  {
   "cell_type": "code",
   "execution_count": 17,
   "id": "04000eae",
   "metadata": {},
   "outputs": [
    {
     "data": {
      "image/png": "[encoded data removed]",
      "text/plain": [
       "<Figure size 600x400 with 1 Axes>"
      ]
     },
     "metadata": {},
     "output_type": "display_data"
    }
   ],
   "source": [
    "# summarize history for Loss\n",
    "\n",
    "sns.set(rc={'figure.figsize':(6,4)})\n",
    "\n",
    "plt.plot(hist1.history['loss'])\n",
    "plt.plot(hist1.history['val_loss'])\n",
    "plt.title('model1 loss')\n",
    "plt.ylabel('loss')\n",
    "plt.xlabel('epoch')\n",
    "plt.legend(['train', 'test'], loc='upper left')\n",
    "plt.show()"
   ]
  },
  {
   "cell_type": "code",
   "execution_count": 18,
   "id": "a746b10d",
   "metadata": {},
   "outputs": [
    {
     "data": {
      "image/png": "[encoded data removed]",
      "text/plain": [
       "<Figure size 600x400 with 1 Axes>"
      ]
     },
     "metadata": {},
     "output_type": "display_data"
    }
   ],
   "source": [
    "# summarize history for loss\n",
    "plt.plot(hist1.history['mse'])\n",
    "plt.plot(hist1.history['val_mse'])\n",
    "plt.title('model1 mse')\n",
    "plt.ylabel('mse')\n",
    "plt.xlabel('epoch')\n",
    "plt.legend(['train', 'test'], loc='upper left')\n",
    "plt.show() "
   ]
  },
  {
   "cell_type": "code",
   "execution_count": null,
   "id": "7d7182a9",
   "metadata": {},
   "outputs": [],
   "source": []
  }
 ],
 "metadata": {
  "kernelspec": {
   "display_name": "Python 3 (ipykernel)",
   "language": "python",
   "name": "python3"
  },
  "language_info": {
   "codemirror_mode": {
    "name": "ipython",
    "version": 3
   },
   "file_extension": ".py",
   "mimetype": "text/x-python",
   "name": "python",
   "nbconvert_exporter": "python",
   "pygments_lexer": "ipython3",
   "version": "3.10.9"
  }
 },
 "nbformat": 4,
 "nbformat_minor": 5
}
